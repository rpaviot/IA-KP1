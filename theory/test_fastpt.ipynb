{
 "cells": [
  {
   "cell_type": "code",
   "execution_count": 1,
   "id": "db5f295c-bd9f-484e-913e-03907db04622",
   "metadata": {},
   "outputs": [],
   "source": [
    "import numpy as np\n",
    "import matplotlib.pyplot as plt\n",
    "import fastpt.HT as HT\n",
    "import models as md\n",
    "import fastpt as fpt\n",
    "import cosmoprimo\n",
    "\n",
    "Om0 = 0.319\n",
    "Omb = 0.049\n",
    "Omc = Om0 - Omb\n",
    "mnu = 0.\n",
    "As = 2.1e-9\n",
    "ns = 0.96\n",
    "h = 0.67\n",
    "zeff = 0.7\n",
    "z_start = 0.2\n",
    "cosmo_list = [Omc,Omb,mnu,As,ns,h,zeff]\n",
    "rpt = np.geomspace(1e-1,100,400)"
   ]
  },
  {
   "cell_type": "code",
   "execution_count": 70,
   "id": "1ae65e38-cf5e-463a-b40b-ef568b2c7c36",
   "metadata": {},
   "outputs": [],
   "source": [
    "\"\"\" PK estimation \"\"\"\n",
    "\n",
    "\n",
    "class cosmo:\n",
    "\n",
    "    \"\"\"set params for cosmoprimo\"\"\"\n",
    "    def __init__(self,h,Omc,Omb,A_s,s8,n_s,Omega_ncdm,kmax):\n",
    "        if A_s is None:\n",
    "            self.cosmop = cosmoprimo.Cosmology(h=h,Omega_c=Omc,Omega_b=Omb,sigma8=s8,n_s=n_s,Omega_ncdm=Omega_ncdm,engine=\"class\",non_linear='mead',kmax_pk=kmax)\n",
    "        else :\n",
    "            self.cosmop = cosmoprimo.Cosmology(h=h,Omega_c=Omc,Omega_b=Omb,A_s=A_s,n_s=n_s,Omega_ncdm=Omega_ncdm,engine=\"class\",non_linear='mead',kmax_pk=kmax)\n",
    "\n",
    "        fourier = cosmoprimo.Fourier(self.cosmop,engine=\"class\")\n",
    "        self.pk_lin_2D = fourier.pk_interpolator(extrap_kmin=1e-5)\n",
    "        self.pk_nl_2D = fourier.pk_interpolator(extrap_kmin=1e-5,non_linear=True)\n",
    "\n",
    "    def set_redshift(self,z):\n",
    "        self.zeq = z\n",
    "        self.sigma8_z = self.cosmop.sigma8_z(self.zeq)\n",
    "        self.sigmav_z = self.pk_lin_2D.sigma_dz(self.zeq)\n",
    "        self.RHO_M = self.cosmop.rho_m(self.zeq)*1e10\n",
    "        self.gz = self.cosmop.growth_factor(z)\n",
    "        \n",
    "\n",
    "        \n",
    "cosmop = cosmo(h=h,Omc=Omc,Omb=Omb,A_s=As,s8=None,n_s=ns,Omega_ncdm=0,kmax=100)\n",
    "k=np.logspace(-5,2,1024)\n",
    "cosmop.set_redshift(zeff)\n",
    "pklin = cosmop.pk_lin_2D(k,z=zeff)\n",
    "pknl = cosmop.pk_nl_2D(k,z=zeff)"
   ]
  },
  {
   "cell_type": "code",
   "execution_count": 72,
   "id": "197f59da-f1e0-47dc-b493-276fc179838c",
   "metadata": {},
   "outputs": [],
   "source": [
    "\"\"\" Current pyccl implementation \"\"\"\n",
    "\n",
    "b1 = 2.\n",
    "A1 = 2.\n",
    "A2 = 3.\n",
    "bTA = 2.\n",
    "\n",
    "\n",
    "pyccl_model = md.twopt_model(cosmo_list,'TATT',computation=['WGG','WGP'])\n",
    "params =[b1,0.,0.,0.,A1,A2,bTA]\n",
    "pyccl_model.set_pks2D(params)\n",
    "\n",
    "p_gI = pyccl_model.h**3*pyccl_model.pk_gi.eval(pyccl_model.ks,1./(1+pyccl_model.zeff),pyccl_model.cosmo)\n"
   ]
  },
  {
   "cell_type": "code",
   "execution_count": 73,
   "id": "fcd18d30-5858-4a43-8ba6-f0ffaa3cbdfb",
   "metadata": {},
   "outputs": [],
   "source": [
    "\n",
    "\"\"\" FAST-PT call\"\"\"\n",
    "\n",
    "to_do = ['IA_all']\n",
    "\n",
    "pad_factor = 1 \n",
    "n_pad = pad_factor*len(k)\n",
    "low_extrap = -5\n",
    "high_extrap = 2 \n",
    "P_window = None \n",
    "C_window = .75 \n",
    "\n",
    "pt = fpt.FASTPT(k, to_do=to_do,\n",
    "                             low_extrap=low_extrap,\n",
    "                             high_extrap=high_extrap,\n",
    "                             n_pad=n_pad)\n",
    "\n",
    "\"\"\" can replace by pklin0 and multiply by g**4, like in pyccl\"\"\"\n",
    "ia_ta = pt.IA_ta(P=pklin)\n",
    "ia_mix = pt.IA_mix(P=pklin)\n",
    "ia_tij = pt.IA_tij(P=pklin)\n",
    "ia_gb2 = pt.IA_gb2(P=pklin)         \n",
    "ia_s2 = pt.IA_s2(P=pklin)         \n",
    "\n",
    "a00e, c00e, a0e0e, a0b0b = ia_ta\n",
    "a0e2, b0e2, d0ee2, d0bb2 = ia_mix\n",
    "t1,t2,t3,t4= ia_tij\n",
    "gb1,gb2,gb3,gb4 = ia_gb2\n",
    "s21,s22,s23,s24 = ia_s2\n",
    "btij = 2.\n",
    "\n",
    "\"\"\" This is how i define A1d in the pyccl script\"\"\"\n",
    "A1d = A1*bTA\n",
    "\n",
    "C1 = -A1*cosmop.RHO_M*5e-14/cosmop.gz\n",
    "Cd = -A1d*5e-14*cosmop.RHO_M/cosmop.gz\n",
    "C2 = A2*5*5e-14*cosmop.RHO_M/(cosmop.gz**2)\n",
    "Ctij = -btij*cosmop.RHO_M*5e-14/cosmop.gz\n",
    "\n"
   ]
  },
  {
   "cell_type": "code",
   "execution_count": 74,
   "id": "c53f8f93-69d0-4d6b-9151-47a397806155",
   "metadata": {},
   "outputs": [],
   "source": [
    "bs2 = -4./7.*(b1 - 1.)\n",
    "b2 = -0.1\n",
    "pgi_lin = b1 * (C1* pknl  + Cd *(a00e + c00e) + C2*(a0e2 + b0e2) + Ctij*(t1 + t2))\n"
   ]
  },
  {
   "cell_type": "code",
   "execution_count": 82,
   "id": "70944573-ee5c-4163-b648-eb0bbf49d892",
   "metadata": {},
   "outputs": [
    {
     "data": {
      "text/plain": [
       "Text(0, 0.5, '$P_{gI}$')"
      ]
     },
     "execution_count": 82,
     "metadata": {},
     "output_type": "execute_result"
    },
    {
     "data": {
      "image/png": "[encoded data removed]",
      "text/plain": [
       "<Figure size 640x480 with 1 Axes>"
      ]
     },
     "metadata": {},
     "output_type": "display_data"
    }
   ],
   "source": [
    "\"\"\"Comparaison between pyccl and this implementation, it is the same\"\"\"\n",
    "\n",
    "plt.loglog(k,-pgi_lin)\n",
    "plt.loglog(pyccl_model.k,-p_gI)\n",
    "plt.xlabel(r'$k$',fontsize=15)\n",
    "plt.ylabel(r'$P_{gI}$',fontsize=15)\n",
    "\n",
    "# plt.loglog(k,-pgi)"
   ]
  },
  {
   "cell_type": "code",
   "execution_count": 84,
   "id": "d4eba0e9-d772-4c65-8e02-b18739cb5722",
   "metadata": {},
   "outputs": [],
   "source": [
    "\"\"\" New p_gI, probably wrong\n",
    "Should i include the C terms in the expansion ?\n",
    "Should i include all tij terms, all gb2 terms, and all s2 terms? For example, for IA_mix and IA_ta, only the first two terms are kept\"\"\"\n",
    "\n",
    "pgi = b1 * (C1* pknl  + Cd *(a00e + c00e) + C2*(a0e2 + b0e2) + Ctij*(t1 + t2)) + b2/2.*(Cd*gb1 + C2*gb2) + bs2/2.*(Cd*s21 + C2*s22)"
   ]
  },
  {
   "cell_type": "code",
   "execution_count": null,
   "id": "a0221d39-1ec3-458b-ae97-cede44aaf324",
   "metadata": {},
   "outputs": [],
   "source": []
  }
 ],
 "metadata": {
  "kernelspec": {
   "display_name": "Python 3 (ipykernel)",
   "language": "python",
   "name": "python3"
  },
  "language_info": {
   "codemirror_mode": {
    "name": "ipython",
    "version": 3
   },
   "file_extension": ".py",
   "mimetype": "text/x-python",
   "name": "python",
   "nbconvert_exporter": "python",
   "pygments_lexer": "ipython3",
   "version": "3.9.16"
  }
 },
 "nbformat": 4,
 "nbformat_minor": 5
}
